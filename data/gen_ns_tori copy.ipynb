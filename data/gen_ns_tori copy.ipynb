{
 "cells": [
  {
   "cell_type": "code",
   "execution_count": 2,
   "metadata": {
    "executionInfo": {
     "elapsed": 59,
     "status": "ok",
     "timestamp": 1633721352624,
     "user": {
      "displayName": "",
      "photoUrl": "",
      "userId": ""
     },
     "user_tz": 240
    },
    "id": "l6TGVEMdxVDh"
   },
   "outputs": [],
   "source": [
    "import jax\n",
    "import jax.numpy as jnp\n",
    "import matplotlib.pyplot as plt\n",
    "\n",
    "import jax_cfd.base as cfd\n",
    "import jax_cfd.base.grids as grids\n",
    "import jax_cfd.spectral as spectral\n",
    "from jax_cfd.spectral import utils as spectral_utils\n",
    "\n",
    "from jax import vmap, jit\n",
    "# 导入 jax 库，用于高性能的数值计算和自动求导\n",
    "# 导入 jax.numpy 作为 jnp，它提供了与 numpy 类似的接口，用于在 jax 中进行数值运算\n",
    "# 导入 matplotlib.pyplot 用于数据可视化\n",
    "# 导入 jax_cfd 库的基础模块，用于计算流体动力学的基础操作\n",
    "# 导入 jax_cfd 库的网格模块，用于定义和操作网格\n",
    "# 导入 jax_cfd 库的谱方法模块，用于基于谱方法的流体模拟\n",
    "# 导入 jax_cfd 谱方法的工具模块，提供谱方法相关的实用工具\n",
    "# 导入 jax 的 vmap 和 jit 函数，vmap 用于自动向量化操作，jit 用于即时编译以提高性能"
   ]
  },
  {
   "cell_type": "markdown",
   "metadata": {
    "id": "ssWGabRRXvyW"
   },
   "source": [
    "物理参数设置与模拟准备"
   ]
  },
  {
   "cell_type": "code",
   "execution_count": 7,
   "metadata": {
    "executionInfo": {
     "elapsed": 6028,
     "status": "ok",
     "timestamp": 1633721359023,
     "user": {
      "displayName": "",
      "photoUrl": "",
      "userId": ""
     },
     "user_tz": 240
    },
    "id": "D4YDAo313MKR",
    "outputId": "bb0c2ed9-0e95-4650-cab2-6ef1ef0e4f82"
   },
   "outputs": [
    {
     "name": "stderr",
     "output_type": "stream",
     "text": [
      "UsageError: Can't use statement directly after '%%time'!\n"
     ]
    }
   ],
   "source": [
    "%%time  # 此命令用于测量代码块的执行时间\n",
    "\n",
    "\n",
    "# 物理参数\n",
    "viscosity = 1e-2 # 粘性系数\n",
    "max_velocity = 3 # 最大速度\n",
    "\n",
    "# 创建一个二维网格，网格大小为 1024x1024，定义域为 [0, 2π] x [0, 2π]\n",
    "grid = grids.Grid((1024, 1024), domain=((0, 2 * jnp.pi), (0, 2 * jnp.pi))) \n",
    "\n",
    "# 根据稳定时间步长公式计算时间步长\n",
    "# dt = cfd.equations.stable_time_step(max_velocity, .5, viscosity, grid)  \n",
    "\n",
    "# 手动设置时间步长为 5e-4\n",
    "dt = 5e-4\n",
    "\n",
    "\n",
    "# setup step function using crank-nicolson runge-kutta order 4\n",
    "smooth = True # use anti-aliasing \n",
    "step_fn = spectral.time_stepping.crank_nicolson_rk4(\n",
    "    spectral.equations.NavierStokes2D(viscosity, grid, smooth=smooth), dt)\n",
    "# 使用 Crank-Nicolson 方法结合四阶 Runge-Kutta 方法来设置时间步长函数\n",
    "# 启用抗锯齿功能，用于减少模拟中的高频噪声\n",
    "# 创建一个时间步长函数，用于求解二维 Navier-Stokes 方程\n",
    "\n",
    "# run the simulation up until time 25.0 but only save 10 frames for visualization\n",
    "# final_time = 10.0\n",
    "outer_steps = 201\n",
    "inner_steps = 100\n",
    "# 模拟运行的总步数，这里设置为 201 步\n",
    "# 每多少步进行一次保存，这里设置为 100 步\n",
    "\n",
    "trajectory_fn = cfd.funcutils.trajectory(\n",
    "    cfd.funcutils.repeated(step_fn, inner_steps), outer_steps)\n",
    "# 创建一个轨迹函数，用于生成模拟的轨迹\n",
    "# 该函数会重复执行 step_fn 指定的次数（inner_steps），并重复 outer_steps 次"
   ]
  },
  {
   "cell_type": "markdown",
   "metadata": {},
   "source": [
    "初始化速度场并进行模拟"
   ]
  },
  {
   "cell_type": "code",
   "execution_count": 5,
   "metadata": {},
   "outputs": [
    {
     "ename": "NameError",
     "evalue": "name 'trajectory' is not defined",
     "output_type": "error",
     "traceback": [
      "\u001b[1;31m---------------------------------------------------------------------------\u001b[0m",
      "\u001b[1;31mNameError\u001b[0m                                 Traceback (most recent call last)",
      "Cell \u001b[1;32mIn[5], line 1\u001b[0m\n\u001b[1;32m----> 1\u001b[0m w \u001b[38;5;241m=\u001b[39m jnp\u001b[38;5;241m.\u001b[39mfft\u001b[38;5;241m.\u001b[39mirfftn(\u001b[43mtrajectory\u001b[49m, axes\u001b[38;5;241m=\u001b[39m(\u001b[38;5;241m1\u001b[39m,\u001b[38;5;241m2\u001b[39m))\n\u001b[0;32m      3\u001b[0m velocity_solve \u001b[38;5;241m=\u001b[39m spectral_utils\u001b[38;5;241m.\u001b[39mvorticity_to_velocity(grid)\n\u001b[0;32m      5\u001b[0m u_hat, v_hat \u001b[38;5;241m=\u001b[39m vmap(velocity_solve)(trajectory)\n",
      "\u001b[1;31mNameError\u001b[0m: name 'trajectory' is not defined"
     ]
    }
   ],
   "source": [
    "w = jnp.fft.irfftn(trajectory, axes=(1,2))\n",
    "\n",
    "velocity_solve = spectral_utils.vorticity_to_velocity(grid)\n",
    "\n",
    "u_hat, v_hat = vmap(velocity_solve)(trajectory)\n",
    "u = vmap(jnp.fft.irfftn)(u_hat)\n",
    "v = vmap(jnp.fft.irfftn)(v_hat)\n",
    "\n",
    "x = jnp.arange(grid.shape[0]) * 2 * jnp.pi / grid.shape[0]\n",
    "y = jnp.arange(grid.shape[0]) * 2 * jnp.pi / grid.shape[0]\n",
    "t = dt * jnp.arange(outer_steps) * inner_steps\n",
    "\n",
    "u0 = u[0, :, :]\n",
    "v0 = v[0, :, :]\n",
    "w0 = w[0, :, :]\n",
    "\n",
    "data = {'w': w, 'u':u, 'v':v, 'u0':u0, 'v0':v0, 'w0':w0, 'x':x, 'y': y, 't':t, 'viscosity':viscosity}\n",
    "# jnp.save('ns_tori_high_res.npy', data)"
   ]
  },
  {
   "cell_type": "code",
   "execution_count": 4,
   "metadata": {},
   "outputs": [],
   "source": [
    "# Downsampling\n",
    "res = 8\n",
    "data = {'u': u[:, ::res, ::res], \n",
    "        'v': v[:, ::res, ::res], \n",
    "        'w': w[:, ::res, ::res], \n",
    "        'x': x[::res], \n",
    "        'y': y[::res], \n",
    "        't':t, \n",
    "        'viscosity':viscosity}\n",
    "\n",
    "jnp.save('ns_tori.npy', data)"
   ]
  },
  {
   "cell_type": "code",
   "execution_count": null,
   "metadata": {},
   "outputs": [],
   "source": []
  }
 ],
 "metadata": {
  "colab": {
   "collapsed_sections": [],
   "last_runtime": {
    "build_target": "//learning/deepmind/public/tools/ml_python:ml_notebook",
    "kind": "private"
   },
   "name": "spectral_forced_turbulence.ipynb",
   "provenance": [
    {
     "file_id": "1lwAg_n3KcxcxvO1nqSWg83GKbVv8ooqR",
     "timestamp": 1633704884754
    }
   ]
  },
  "kernelspec": {
   "display_name": "Python 3",
   "language": "python",
   "name": "python3"
  },
  "language_info": {
   "codemirror_mode": {
    "name": "ipython",
    "version": 3
   },
   "file_extension": ".py",
   "mimetype": "text/x-python",
   "name": "python",
   "nbconvert_exporter": "python",
   "pygments_lexer": "ipython3",
   "version": "3.12.6"
  }
 },
 "nbformat": 4,
 "nbformat_minor": 1
}
